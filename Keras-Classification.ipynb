{
 "cells": [
  {
   "cell_type": "code",
   "execution_count": 18,
   "metadata": {
    "_cell_guid": "b1076dfc-b9ad-4769-8c92-a6c4dae69d19",
    "_uuid": "8f2839f25d086af736a60e9eeb907d3b93b6e0e5",
    "pycharm": {
     "name": "#%%\n"
    },
    "tags": []
   },
   "outputs": [],
   "source": [
    "#Script to obtain data \n",
    "from helpers import *\n",
    "import numpy as np \n",
    "import pandas as pd \n",
    "import matplotlib.pyplot as plt\n",
    "import seaborn as sns\n",
    "import spotipy\n",
    "import warnings\n",
    "warnings.filterwarnings(\"ignore\")\n",
    "from spotipy import SpotifyClientCredentials, util\n",
    "\n",
    "#Libraries to create the multiclass model\n",
    "from keras.models import Sequential\n",
    "from keras.layers import Dense\n",
    "from keras.wrappers.scikit_learn import KerasClassifier\n",
    "from keras.utils import np_utils\n",
    "#Import tensorflow and disable the v2 behavior and eager mode\n",
    "import tensorflow as tf\n",
    "tf.compat.v1.disable_eager_execution()\n",
    "tf.compat.v1.disable_v2_behavior()\n",
    "\n",
    "#Library to validate the model\n",
    "from sklearn.model_selection import cross_val_score, KFold, train_test_split\n",
    "from sklearn.preprocessing import LabelEncoder,MinMaxScaler\n",
    "from sklearn.pipeline import Pipeline\n",
    "from sklearn.metrics import confusion_matrix, accuracy_score"
   ]
  },
  {
   "cell_type": "code",
   "execution_count": 4,
   "metadata": {
    "_cell_guid": "79c7e3d0-c299-4dcb-8224-4455121ee9b0",
    "_uuid": "d629ff2d2480ee46fbb7e2d37f6b5fab8052498a",
    "pycharm": {
     "name": "#%%\n"
    }
   },
   "outputs": [],
   "source": [
    "df = pd.read_csv(\"data/data_moods.csv\")"
   ]
  },
  {
   "cell_type": "code",
   "execution_count": 5,
   "metadata": {
    "pycharm": {
     "name": "#%%\n"
    }
   },
   "outputs": [],
   "source": [
    "col_features = df.columns[6:-3]\n",
    "X= MinMaxScaler().fit_transform(df[col_features])\n",
    "X2 = np.array(df[col_features])\n",
    "Y = df['mood']"
   ]
  },
  {
   "cell_type": "code",
   "execution_count": 6,
   "metadata": {
    "pycharm": {
     "name": "#%%\n"
    }
   },
   "outputs": [
    {
     "data": {
      "text/plain": "        mood  encode\n5       Calm       0\n4  Energetic       1\n0      Happy       2\n1        Sad       3",
      "text/html": "<div>\n<style scoped>\n    .dataframe tbody tr th:only-of-type {\n        vertical-align: middle;\n    }\n\n    .dataframe tbody tr th {\n        vertical-align: top;\n    }\n\n    .dataframe thead th {\n        text-align: right;\n    }\n</style>\n<table border=\"1\" class=\"dataframe\">\n  <thead>\n    <tr style=\"text-align: right;\">\n      <th></th>\n      <th>mood</th>\n      <th>encode</th>\n    </tr>\n  </thead>\n  <tbody>\n    <tr>\n      <th>5</th>\n      <td>Calm</td>\n      <td>0</td>\n    </tr>\n    <tr>\n      <th>4</th>\n      <td>Energetic</td>\n      <td>1</td>\n    </tr>\n    <tr>\n      <th>0</th>\n      <td>Happy</td>\n      <td>2</td>\n    </tr>\n    <tr>\n      <th>1</th>\n      <td>Sad</td>\n      <td>3</td>\n    </tr>\n  </tbody>\n</table>\n</div>"
     },
     "execution_count": 6,
     "metadata": {},
     "output_type": "execute_result"
    }
   ],
   "source": [
    "#Encodethe categories\n",
    "encoder = LabelEncoder()\n",
    "encoder.fit(Y)\n",
    "encoded_y = encoder.transform(Y)\n",
    "\n",
    "\n",
    "#Convert to  dummy (Not necessary in my case)\n",
    "dummy_y = np_utils.to_categorical(encoded_y)\n",
    "\n",
    "X_train,X_test,Y_train,Y_test = train_test_split(X,encoded_y,test_size=0.4,random_state=100)\n",
    "\n",
    "target = pd.DataFrame({'mood':df['mood'].tolist(),'encode':encoded_y}).drop_duplicates().sort_values(['encode'],ascending=True)\n",
    "target"
   ]
  },
  {
   "cell_type": "code",
   "execution_count": 7,
   "metadata": {
    "pycharm": {
     "name": "#%%\n"
    }
   },
   "outputs": [],
   "source": [
    "def base_model():\n",
    "    #Create the model\n",
    "    model = Sequential()\n",
    "    #Add 1 layer with 8 nodes,input of 4 dim with relu function\n",
    "    model.add(Dense(8,input_dim=10,activation='relu'))\n",
    "    #Add 1 layer with output 3 and softmax function\n",
    "    model.add(Dense(4,activation='softmax'))\n",
    "    #Compile the model using sigmoid loss function and adam optim\n",
    "    model.compile(loss='categorical_crossentropy',optimizer='adam',\n",
    "                 metrics=['accuracy'])\n",
    "    return model"
   ]
  },
  {
   "cell_type": "code",
   "execution_count": 8,
   "metadata": {
    "pycharm": {
     "name": "#%%\n"
    }
   },
   "outputs": [],
   "source": [
    "#Configure the model\n",
    "estimator = KerasClassifier(build_fn=base_model,epochs=600,batch_size=200,verbose=0)"
   ]
  },
  {
   "cell_type": "code",
   "execution_count": 9,
   "metadata": {
    "pycharm": {
     "name": "#%%\n"
    },
    "tags": []
   },
   "outputs": [
    {
     "name": "stdout",
     "output_type": "stream",
     "text": [
      "Baseline: 80.30% (4.07%)\n"
     ]
    }
   ],
   "source": [
    "#Evaluate the model using KFold cross validation\n",
    "kfold = KFold(n_splits=10,shuffle=True)\n",
    "results = cross_val_score(estimator,X,encoded_y,cv=kfold)\n",
    "print(\"Baseline: %.2f%% (%.2f%%)\" % (results.mean()*100,results.std()*100))"
   ]
  },
  {
   "cell_type": "code",
   "execution_count": 10,
   "metadata": {
    "pycharm": {
     "name": "#%%\n"
    },
    "tags": []
   },
   "outputs": [],
   "source": [
    "estimator.fit(X_train,Y_train)\n",
    "y_preds = estimator.predict(X_test)"
   ]
  },
  {
   "cell_type": "code",
   "execution_count": 11,
   "metadata": {
    "pycharm": {
     "name": "#%%\n"
    },
    "tags": []
   },
   "outputs": [
    {
     "data": {
      "text/plain": "<Figure size 432x288 with 2 Axes>",
      "image/png": "[encoded data removed]"
     },
     "metadata": {
      "needs_background": "light"
     },
     "output_type": "display_data"
    },
    {
     "name": "stdout",
     "output_type": "stream",
     "text": [
      "Accuracy Score 0.7963636363636364\n"
     ]
    }
   ],
   "source": [
    "\n",
    "cm = confusion_matrix(Y_test,y_preds)\n",
    "ax = plt.subplot()\n",
    "sns.heatmap(cm,annot=True,ax=ax)\n",
    "\n",
    "labels = target['mood']\n",
    "ax.set_xlabel('Predicted labels')\n",
    "ax.set_ylabel('True labels')\n",
    "ax.set_title('Confusion Matrix')\n",
    "ax.xaxis.set_ticklabels(labels)\n",
    "ax.yaxis.set_ticklabels(labels)\n",
    "plt.show()\n",
    "\n",
    "print(\"Accuracy Score\",accuracy_score(Y_test,y_preds))"
   ]
  },
  {
   "cell_type": "code",
   "execution_count": 12,
   "metadata": {
    "pycharm": {
     "name": "#%%\n"
    }
   },
   "outputs": [],
   "source": [
    "def predict_mood(id_song):\n",
    "    #Join the model and the scaler in a Pipeline\n",
    "    pip = Pipeline([('minmaxscaler',MinMaxScaler()),('keras',estimator)])\n",
    "    #Fit the Pipeline\n",
    "    pip.fit(X2,encoded_y)\n",
    "\n",
    "    #Obtain the features of the song\n",
    "    preds = get_songs_features(id_song)\n",
    "    #Pre-process the features to input the Model\n",
    "    preds_features = np.array(preds[0][6:-2]).reshape(-1,1).T\n",
    "\n",
    "    #Predict the features of the song\n",
    "    results = pip.predict(preds_features)\n",
    "\n",
    "    mood = np.array(target['mood'][target['encode']==int(results)])\n",
    "    return mood\n"
   ]
  },
  {
   "cell_type": "code",
   "execution_count": 13,
   "outputs": [
    {
     "name": "stdout",
     "output_type": "stream",
     "text": [
      "['0O45fw2L5vsWpdsOdXwNAR', '2hgzdQdnfWwtdpZbhZlV72', '1z9kQ14XBSN0r2v6fx4IdG', '4hfIVhq0F0zFUcrbecsYmo', '13KCcVDJM9rrQlPgGtepK8', '63fyL7QZ1vhGZzZ9G56rcp', '7IohFKIwrb75c4XaqX7WWo', '2g1KggY9PKvsoEAOaiz4xx', '1RidHM9BC4M8DpfSQ6YLJh', '1kxyZ2SpflM1ogD0B5hgfX']\n"
     ]
    }
   ],
   "source": [
    "id_lis = spotify_recommend()\n",
    "print(id_lis)"
   ],
   "metadata": {
    "collapsed": false,
    "pycharm": {
     "name": "#%%\n"
    }
   }
  },
  {
   "cell_type": "code",
   "execution_count": 14,
   "outputs": [
    {
     "name": "stdout",
     "output_type": "stream",
     "text": [
      "SexyBack (feat. Timbaland) is a HAPPY song\n",
      "Ain't Your Mama is a HAPPY song\n",
      "Diamonds is a ENERGETIC song\n",
      "Let's Get It Started - Spike Mix is a HAPPY song\n",
      "No Excuses is a HAPPY song\n",
      "Hangover - Hardwell Remix Radio Edit is a ENERGETIC song\n",
      "This Is Love is a ENERGETIC song\n",
      "Daisy is a HAPPY song\n",
      "Up is a HAPPY song\n",
      "Can't Believe It (feat. Pitbull) is a HAPPY song\n"
     ]
    }
   ],
   "source": [
    "result = {}\n",
    "for iterator in id_lis:\n",
    "    result[iterator] = predict_mood(iterator)[0]\n",
    "    song_features = get_songs_features(iterator)\n",
    "    print(\"{0} is a {1} song\".format(song_features[0][0],result[iterator].upper()))\n"
   ],
   "metadata": {
    "collapsed": false,
    "pycharm": {
     "name": "#%%\n"
    }
   }
  },
  {
   "cell_type": "code",
   "execution_count": 15,
   "outputs": [
    {
     "name": "stdout",
     "output_type": "stream",
     "text": [
      "['0O45fw2L5vsWpdsOdXwNAR', '2hgzdQdnfWwtdpZbhZlV72', '4hfIVhq0F0zFUcrbecsYmo', '13KCcVDJM9rrQlPgGtepK8', '2g1KggY9PKvsoEAOaiz4xx', '1RidHM9BC4M8DpfSQ6YLJh', '1kxyZ2SpflM1ogD0B5hgfX']\n"
     ]
    }
   ],
   "source": [
    "lis = [i for i in result.keys() if result[i] == 'Happy']\n",
    "print(lis)"
   ],
   "metadata": {
    "collapsed": false,
    "pycharm": {
     "name": "#%%\n"
    }
   }
  },
  {
   "cell_type": "code",
   "execution_count": 20,
   "outputs": [
    {
     "name": "stdout",
     "output_type": "stream",
     "text": [
      "http://localhost:8080/callback 313k43wbq4zb2igxzhcqcrujnjsm\n"
     ]
    }
   ],
   "source": [
    "import configparser\n",
    "\n",
    "config = configparser.ConfigParser()\n",
    "config.read('application.properties')\n",
    "\n",
    "redirect_uri = config.get(\"SpotifyCredentials\", \"redirect_uri\")\n",
    "username = config.get(\"SpotifyCredentials\", \"username\")\n",
    "scope_playlist = 'playlist-modify-public'\n",
    "scope_user = 'user-library-modify'\n",
    "scope_playing = 'user-read-currently-playing'\n",
    "\n",
    "#Credentials to access the Spotify Music Data\n",
    "manager = SpotifyClientCredentials(client_id,client_secret)\n",
    "sp = spotipy.Spotify(client_credentials_manager=manager)\n",
    "\n",
    "#Credentials to access the actual song played\n",
    "token_actual = util.prompt_for_user_token(username,scope_playing,client_id,client_secret,redirect_uri)\n",
    "sp_actual = spotipy.Spotify(auth=token_actual)\n",
    "\n",
    "#Credentiasl to acces the library music\n",
    "token_user= util.prompt_for_user_token(username,scope_user,client_id,client_secret,redirect_uri)\n",
    "sp_user = spotipy.Spotify(auth=token_user)\n",
    "\n",
    "#Credentiasl to acces the Playlists Music\n",
    "token_playlist= util.prompt_for_user_token(username,scope_playlist,client_id,client_secret,redirect_uri)\n",
    "sp_playlist = spotipy.Spotify(auth=token_playlist)"
   ],
   "metadata": {
    "collapsed": false,
    "pycharm": {
     "name": "#%%\n"
    }
   }
  },
  {
   "cell_type": "code",
   "execution_count": 17,
   "outputs": [
    {
     "data": {
      "text/plain": "{'snapshot_id': 'MixkNmExMzAxZmExYmUwNDMwMjVmMTRkYTEzZTgwNWZlMzYxM2JhMmE1'}"
     },
     "execution_count": 17,
     "metadata": {},
     "output_type": "execute_result"
    }
   ],
   "source": [
    "playlist = sp_playlist.user_playlist_create(username,\"HappyPlaylist\")\n",
    "playlist_id = playlist[\"id\"]\n",
    "sp_playlist.user_playlist_add_tracks(username, playlist_id, lis)"
   ],
   "metadata": {
    "collapsed": false,
    "pycharm": {
     "name": "#%%\n"
    }
   }
  }
 ],
 "metadata": {
  "kernelspec": {
   "display_name": "Python 3 (ipykernel)",
   "language": "python",
   "name": "python3"
  },
  "language_info": {
   "codemirror_mode": {
    "name": "ipython",
    "version": 3
   },
   "file_extension": ".py",
   "mimetype": "text/x-python",
   "name": "python",
   "nbconvert_exporter": "python",
   "pygments_lexer": "ipython3",
   "version": "3.9.12"
  }
 },
 "nbformat": 4,
 "nbformat_minor": 4
}